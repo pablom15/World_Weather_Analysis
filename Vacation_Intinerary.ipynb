{
 "cells": [
  {
   "cell_type": "code",
   "execution_count": 1,
   "metadata": {},
   "outputs": [],
   "source": [
    "# Import the dependencies.\n",
    "import pandas as pd\n",
    "import gmaps\n",
    "import requests\n",
    "# Import the API key.\n",
    "from config import g_key"
   ]
  },
  {
   "cell_type": "code",
   "execution_count": 3,
   "metadata": {},
   "outputs": [
    {
     "data": {
      "text/html": [
       "<div>\n",
       "<style scoped>\n",
       "    .dataframe tbody tr th:only-of-type {\n",
       "        vertical-align: middle;\n",
       "    }\n",
       "\n",
       "    .dataframe tbody tr th {\n",
       "        vertical-align: top;\n",
       "    }\n",
       "\n",
       "    .dataframe thead th {\n",
       "        text-align: right;\n",
       "    }\n",
       "</style>\n",
       "<table border=\"1\" class=\"dataframe\">\n",
       "  <thead>\n",
       "    <tr style=\"text-align: right;\">\n",
       "      <th></th>\n",
       "      <th>City_ID</th>\n",
       "      <th>City</th>\n",
       "      <th>Country</th>\n",
       "      <th>Lat</th>\n",
       "      <th>Lng</th>\n",
       "      <th>Max Temp</th>\n",
       "      <th>Humidity</th>\n",
       "      <th>Cloudiness</th>\n",
       "      <th>Wind Speed</th>\n",
       "      <th>Current Description</th>\n",
       "      <th>Rain (inches)</th>\n",
       "      <th>Snow (inches)</th>\n",
       "    </tr>\n",
       "  </thead>\n",
       "  <tbody>\n",
       "    <tr>\n",
       "      <th>0</th>\n",
       "      <td>0</td>\n",
       "      <td>Ushuaia</td>\n",
       "      <td>AR</td>\n",
       "      <td>-54.80</td>\n",
       "      <td>-68.30</td>\n",
       "      <td>37.40</td>\n",
       "      <td>69</td>\n",
       "      <td>20</td>\n",
       "      <td>3.36</td>\n",
       "      <td>few clouds</td>\n",
       "      <td>0.00</td>\n",
       "      <td>0.0</td>\n",
       "    </tr>\n",
       "    <tr>\n",
       "      <th>1</th>\n",
       "      <td>1</td>\n",
       "      <td>Georgetown</td>\n",
       "      <td>MY</td>\n",
       "      <td>5.41</td>\n",
       "      <td>100.34</td>\n",
       "      <td>80.60</td>\n",
       "      <td>88</td>\n",
       "      <td>40</td>\n",
       "      <td>4.70</td>\n",
       "      <td>scattered clouds</td>\n",
       "      <td>0.00</td>\n",
       "      <td>0.0</td>\n",
       "    </tr>\n",
       "    <tr>\n",
       "      <th>2</th>\n",
       "      <td>2</td>\n",
       "      <td>Palmas Bellas</td>\n",
       "      <td>PA</td>\n",
       "      <td>9.23</td>\n",
       "      <td>-80.09</td>\n",
       "      <td>86.00</td>\n",
       "      <td>70</td>\n",
       "      <td>69</td>\n",
       "      <td>11.99</td>\n",
       "      <td>light rain</td>\n",
       "      <td>0.52</td>\n",
       "      <td>0.0</td>\n",
       "    </tr>\n",
       "    <tr>\n",
       "      <th>3</th>\n",
       "      <td>3</td>\n",
       "      <td>Ahipara</td>\n",
       "      <td>NZ</td>\n",
       "      <td>-35.17</td>\n",
       "      <td>173.17</td>\n",
       "      <td>50.52</td>\n",
       "      <td>79</td>\n",
       "      <td>65</td>\n",
       "      <td>2.01</td>\n",
       "      <td>broken clouds</td>\n",
       "      <td>0.00</td>\n",
       "      <td>0.0</td>\n",
       "    </tr>\n",
       "    <tr>\n",
       "      <th>4</th>\n",
       "      <td>4</td>\n",
       "      <td>Constitucion</td>\n",
       "      <td>CL</td>\n",
       "      <td>-35.33</td>\n",
       "      <td>-72.42</td>\n",
       "      <td>53.76</td>\n",
       "      <td>64</td>\n",
       "      <td>83</td>\n",
       "      <td>4.94</td>\n",
       "      <td>broken clouds</td>\n",
       "      <td>0.00</td>\n",
       "      <td>0.0</td>\n",
       "    </tr>\n",
       "  </tbody>\n",
       "</table>\n",
       "</div>"
      ],
      "text/plain": [
       "   City_ID           City Country    Lat     Lng  Max Temp  Humidity  \\\n",
       "0        0        Ushuaia      AR -54.80  -68.30     37.40        69   \n",
       "1        1     Georgetown      MY   5.41  100.34     80.60        88   \n",
       "2        2  Palmas Bellas      PA   9.23  -80.09     86.00        70   \n",
       "3        3        Ahipara      NZ -35.17  173.17     50.52        79   \n",
       "4        4   Constitucion      CL -35.33  -72.42     53.76        64   \n",
       "\n",
       "   Cloudiness  Wind Speed Current Description  Rain (inches)  Snow (inches)  \n",
       "0          20        3.36          few clouds           0.00            0.0  \n",
       "1          40        4.70    scattered clouds           0.00            0.0  \n",
       "2          69       11.99          light rain           0.52            0.0  \n",
       "3          65        2.01       broken clouds           0.00            0.0  \n",
       "4          83        4.94       broken clouds           0.00            0.0  "
      ]
     },
     "execution_count": 3,
     "metadata": {},
     "output_type": "execute_result"
    }
   ],
   "source": [
    "city_data_df = pd.read_csv(\"weather_data/WeatherPy_databse.csv\")\n",
    "city_data_df.head()"
   ]
  },
  {
   "cell_type": "code",
   "execution_count": 6,
   "metadata": {},
   "outputs": [],
   "source": [
    "travel_cities = [\"Vierzon\",\"Saint-Orens-De-Gameville\",\"Vila\",\"Lata\"]"
   ]
  },
  {
   "cell_type": "code",
   "execution_count": 7,
   "metadata": {},
   "outputs": [
    {
     "data": {
      "text/html": [
       "<div>\n",
       "<style scoped>\n",
       "    .dataframe tbody tr th:only-of-type {\n",
       "        vertical-align: middle;\n",
       "    }\n",
       "\n",
       "    .dataframe tbody tr th {\n",
       "        vertical-align: top;\n",
       "    }\n",
       "\n",
       "    .dataframe thead th {\n",
       "        text-align: right;\n",
       "    }\n",
       "</style>\n",
       "<table border=\"1\" class=\"dataframe\">\n",
       "  <thead>\n",
       "    <tr style=\"text-align: right;\">\n",
       "      <th></th>\n",
       "      <th>City_ID</th>\n",
       "      <th>City</th>\n",
       "      <th>Country</th>\n",
       "      <th>Lat</th>\n",
       "      <th>Lng</th>\n",
       "      <th>Max Temp</th>\n",
       "      <th>Humidity</th>\n",
       "      <th>Cloudiness</th>\n",
       "      <th>Wind Speed</th>\n",
       "      <th>Current Description</th>\n",
       "      <th>Rain (inches)</th>\n",
       "      <th>Snow (inches)</th>\n",
       "    </tr>\n",
       "  </thead>\n",
       "  <tbody>\n",
       "    <tr>\n",
       "      <th>305</th>\n",
       "      <td>305</td>\n",
       "      <td>Vierzon</td>\n",
       "      <td>FR</td>\n",
       "      <td>47.21</td>\n",
       "      <td>2.06</td>\n",
       "      <td>82.4</td>\n",
       "      <td>42</td>\n",
       "      <td>0</td>\n",
       "      <td>4.7</td>\n",
       "      <td>clear sky</td>\n",
       "      <td>0.0</td>\n",
       "      <td>0.0</td>\n",
       "    </tr>\n",
       "  </tbody>\n",
       "</table>\n",
       "</div>"
      ],
      "text/plain": [
       "     City_ID     City Country    Lat   Lng  Max Temp  Humidity  Cloudiness  \\\n",
       "305      305  Vierzon      FR  47.21  2.06      82.4        42           0   \n",
       "\n",
       "     Wind Speed Current Description  Rain (inches)  Snow (inches)  \n",
       "305         4.7           clear sky            0.0            0.0  "
      ]
     },
     "execution_count": 7,
     "metadata": {},
     "output_type": "execute_result"
    }
   ],
   "source": [
    "city1_df = city_data_df.loc[(city_data_df[\"City\"] == travel_cities[0])]\n",
    "city1_df"
   ]
  },
  {
   "cell_type": "code",
   "execution_count": 8,
   "metadata": {},
   "outputs": [
    {
     "data": {
      "text/html": [
       "<div>\n",
       "<style scoped>\n",
       "    .dataframe tbody tr th:only-of-type {\n",
       "        vertical-align: middle;\n",
       "    }\n",
       "\n",
       "    .dataframe tbody tr th {\n",
       "        vertical-align: top;\n",
       "    }\n",
       "\n",
       "    .dataframe thead th {\n",
       "        text-align: right;\n",
       "    }\n",
       "</style>\n",
       "<table border=\"1\" class=\"dataframe\">\n",
       "  <thead>\n",
       "    <tr style=\"text-align: right;\">\n",
       "      <th></th>\n",
       "      <th>City_ID</th>\n",
       "      <th>City</th>\n",
       "      <th>Country</th>\n",
       "      <th>Lat</th>\n",
       "      <th>Lng</th>\n",
       "      <th>Max Temp</th>\n",
       "      <th>Humidity</th>\n",
       "      <th>Cloudiness</th>\n",
       "      <th>Wind Speed</th>\n",
       "      <th>Current Description</th>\n",
       "      <th>Rain (inches)</th>\n",
       "      <th>Snow (inches)</th>\n",
       "    </tr>\n",
       "  </thead>\n",
       "  <tbody>\n",
       "    <tr>\n",
       "      <th>245</th>\n",
       "      <td>245</td>\n",
       "      <td>Saint-Orens-De-Gameville</td>\n",
       "      <td>FR</td>\n",
       "      <td>43.55</td>\n",
       "      <td>1.53</td>\n",
       "      <td>86.0</td>\n",
       "      <td>37</td>\n",
       "      <td>39</td>\n",
       "      <td>4.7</td>\n",
       "      <td>scattered clouds</td>\n",
       "      <td>0.0</td>\n",
       "      <td>0.0</td>\n",
       "    </tr>\n",
       "  </tbody>\n",
       "</table>\n",
       "</div>"
      ],
      "text/plain": [
       "     City_ID                      City Country    Lat   Lng  Max Temp  \\\n",
       "245      245  Saint-Orens-De-Gameville      FR  43.55  1.53      86.0   \n",
       "\n",
       "     Humidity  Cloudiness  Wind Speed Current Description  Rain (inches)  \\\n",
       "245        37          39         4.7    scattered clouds            0.0   \n",
       "\n",
       "     Snow (inches)  \n",
       "245            0.0  "
      ]
     },
     "execution_count": 8,
     "metadata": {},
     "output_type": "execute_result"
    }
   ],
   "source": [
    "city2_df = city_data_df.loc[(city_data_df[\"City\"] == travel_cities[1])]\n",
    "city2_df"
   ]
  },
  {
   "cell_type": "code",
   "execution_count": 9,
   "metadata": {},
   "outputs": [
    {
     "data": {
      "text/html": [
       "<div>\n",
       "<style scoped>\n",
       "    .dataframe tbody tr th:only-of-type {\n",
       "        vertical-align: middle;\n",
       "    }\n",
       "\n",
       "    .dataframe tbody tr th {\n",
       "        vertical-align: top;\n",
       "    }\n",
       "\n",
       "    .dataframe thead th {\n",
       "        text-align: right;\n",
       "    }\n",
       "</style>\n",
       "<table border=\"1\" class=\"dataframe\">\n",
       "  <thead>\n",
       "    <tr style=\"text-align: right;\">\n",
       "      <th></th>\n",
       "      <th>City_ID</th>\n",
       "      <th>City</th>\n",
       "      <th>Country</th>\n",
       "      <th>Lat</th>\n",
       "      <th>Lng</th>\n",
       "      <th>Max Temp</th>\n",
       "      <th>Humidity</th>\n",
       "      <th>Cloudiness</th>\n",
       "      <th>Wind Speed</th>\n",
       "      <th>Current Description</th>\n",
       "      <th>Rain (inches)</th>\n",
       "      <th>Snow (inches)</th>\n",
       "    </tr>\n",
       "  </thead>\n",
       "  <tbody>\n",
       "    <tr>\n",
       "      <th>519</th>\n",
       "      <td>519</td>\n",
       "      <td>Vila</td>\n",
       "      <td>PT</td>\n",
       "      <td>42.03</td>\n",
       "      <td>-8.16</td>\n",
       "      <td>75.99</td>\n",
       "      <td>47</td>\n",
       "      <td>0</td>\n",
       "      <td>8.01</td>\n",
       "      <td>clear sky</td>\n",
       "      <td>0.0</td>\n",
       "      <td>0.0</td>\n",
       "    </tr>\n",
       "  </tbody>\n",
       "</table>\n",
       "</div>"
      ],
      "text/plain": [
       "     City_ID  City Country    Lat   Lng  Max Temp  Humidity  Cloudiness  \\\n",
       "519      519  Vila      PT  42.03 -8.16     75.99        47           0   \n",
       "\n",
       "     Wind Speed Current Description  Rain (inches)  Snow (inches)  \n",
       "519        8.01           clear sky            0.0            0.0  "
      ]
     },
     "execution_count": 9,
     "metadata": {},
     "output_type": "execute_result"
    }
   ],
   "source": [
    "city3_df = city_data_df.loc[(city_data_df[\"City\"] == travel_cities[2])]\n",
    "city3_df"
   ]
  },
  {
   "cell_type": "code",
   "execution_count": 10,
   "metadata": {},
   "outputs": [
    {
     "data": {
      "text/html": [
       "<div>\n",
       "<style scoped>\n",
       "    .dataframe tbody tr th:only-of-type {\n",
       "        vertical-align: middle;\n",
       "    }\n",
       "\n",
       "    .dataframe tbody tr th {\n",
       "        vertical-align: top;\n",
       "    }\n",
       "\n",
       "    .dataframe thead th {\n",
       "        text-align: right;\n",
       "    }\n",
       "</style>\n",
       "<table border=\"1\" class=\"dataframe\">\n",
       "  <thead>\n",
       "    <tr style=\"text-align: right;\">\n",
       "      <th></th>\n",
       "      <th>City_ID</th>\n",
       "      <th>City</th>\n",
       "      <th>Country</th>\n",
       "      <th>Lat</th>\n",
       "      <th>Lng</th>\n",
       "      <th>Max Temp</th>\n",
       "      <th>Humidity</th>\n",
       "      <th>Cloudiness</th>\n",
       "      <th>Wind Speed</th>\n",
       "      <th>Current Description</th>\n",
       "      <th>Rain (inches)</th>\n",
       "      <th>Snow (inches)</th>\n",
       "    </tr>\n",
       "  </thead>\n",
       "  <tbody>\n",
       "    <tr>\n",
       "      <th>386</th>\n",
       "      <td>386</td>\n",
       "      <td>Lata</td>\n",
       "      <td>PT</td>\n",
       "      <td>40.16</td>\n",
       "      <td>-8.33</td>\n",
       "      <td>73.99</td>\n",
       "      <td>70</td>\n",
       "      <td>0</td>\n",
       "      <td>3.0</td>\n",
       "      <td>clear sky</td>\n",
       "      <td>0.0</td>\n",
       "      <td>0.0</td>\n",
       "    </tr>\n",
       "  </tbody>\n",
       "</table>\n",
       "</div>"
      ],
      "text/plain": [
       "     City_ID  City Country    Lat   Lng  Max Temp  Humidity  Cloudiness  \\\n",
       "386      386  Lata      PT  40.16 -8.33     73.99        70           0   \n",
       "\n",
       "     Wind Speed Current Description  Rain (inches)  Snow (inches)  \n",
       "386         3.0           clear sky            0.0            0.0  "
      ]
     },
     "execution_count": 10,
     "metadata": {},
     "output_type": "execute_result"
    }
   ],
   "source": [
    "city4_df = city_data_df.loc[(city_data_df[\"City\"] == travel_cities[3])]\n",
    "city4_df"
   ]
  },
  {
   "cell_type": "code",
   "execution_count": 50,
   "metadata": {},
   "outputs": [
    {
     "name": "stdout",
     "output_type": "stream",
     "text": [
      "(47.21, 2.06) (43.55, 1.53) (42.03, -8.16) (40.16, -8.33)\n"
     ]
    }
   ],
   "source": [
    "coor1 = city1_df.Lat.values[0],city1_df.Lng.values[0]\n",
    "coor2 = city2_df.Lat.values[0],city2_df.Lng.values[0]\n",
    "coor3 = city3_df.Lat.values[0],city3_df.Lng.values[0]\n",
    "coor4 = city4_df.Lat.values[0],city4_df.Lng.values[0]\n",
    "print(coor1, coor2, coor3, coor4)"
   ]
  },
  {
   "cell_type": "code",
   "execution_count": 63,
   "metadata": {
    "scrolled": true
   },
   "outputs": [
    {
     "data": {
      "application/vnd.jupyter.widget-view+json": {
       "model_id": "e905ab6116ca4450b0bacdf08e014b1e",
       "version_major": 2,
       "version_minor": 0
      },
      "text/plain": [
       "Figure(layout=FigureLayout(height='420px'))"
      ]
     },
     "metadata": {},
     "output_type": "display_data"
    }
   ],
   "source": [
    "import gmaps\n",
    "import gmaps.datasets\n",
    "gmaps.configure(api_key=g_key)\n",
    "\n",
    "# Latitude-longitude pairs\n",
    "Vierzon = coor1\n",
    "Saint_Orens_De_Gameville = coor2\n",
    "Vila = coor3\n",
    "Lata = coor4\n",
    "\n",
    "fig = gmaps.figure()\n",
    "Vierzon2Lata = gmaps.directions_layer(Vierzon, Lata, waypoints = [Saint_Orens_De_Gameville, Vila])\n",
    "fig.add_layer(Vierzon2Lata)\n",
    "fig"
   ]
  },
  {
   "cell_type": "code",
   "execution_count": 58,
   "metadata": {},
   "outputs": [
    {
     "data": {
      "text/html": [
       "<div>\n",
       "<style scoped>\n",
       "    .dataframe tbody tr th:only-of-type {\n",
       "        vertical-align: middle;\n",
       "    }\n",
       "\n",
       "    .dataframe tbody tr th {\n",
       "        vertical-align: top;\n",
       "    }\n",
       "\n",
       "    .dataframe thead th {\n",
       "        text-align: right;\n",
       "    }\n",
       "</style>\n",
       "<table border=\"1\" class=\"dataframe\">\n",
       "  <thead>\n",
       "    <tr style=\"text-align: right;\">\n",
       "      <th></th>\n",
       "      <th>Unnamed: 0</th>\n",
       "      <th>City</th>\n",
       "      <th>Country</th>\n",
       "      <th>Max Temp</th>\n",
       "      <th>Current Description</th>\n",
       "      <th>Lat</th>\n",
       "      <th>Lng</th>\n",
       "      <th>Hotel Name</th>\n",
       "    </tr>\n",
       "  </thead>\n",
       "  <tbody>\n",
       "    <tr>\n",
       "      <th>0</th>\n",
       "      <td>305</td>\n",
       "      <td>Vierzon</td>\n",
       "      <td>FR</td>\n",
       "      <td>82.40</td>\n",
       "      <td>clear sky</td>\n",
       "      <td>47.21</td>\n",
       "      <td>2.06</td>\n",
       "      <td>Arche Hôtel Vierzon</td>\n",
       "    </tr>\n",
       "    <tr>\n",
       "      <th>1</th>\n",
       "      <td>245</td>\n",
       "      <td>Saint-Orens-De-Gameville</td>\n",
       "      <td>FR</td>\n",
       "      <td>86.00</td>\n",
       "      <td>scattered clouds</td>\n",
       "      <td>43.55</td>\n",
       "      <td>1.53</td>\n",
       "      <td>Appart'City Confort Toulouse Diagora Labège - ...</td>\n",
       "    </tr>\n",
       "    <tr>\n",
       "      <th>2</th>\n",
       "      <td>519</td>\n",
       "      <td>Vila</td>\n",
       "      <td>PT</td>\n",
       "      <td>75.99</td>\n",
       "      <td>clear sky</td>\n",
       "      <td>42.03</td>\n",
       "      <td>-8.16</td>\n",
       "      <td>Hotel Castrum Villae</td>\n",
       "    </tr>\n",
       "    <tr>\n",
       "      <th>3</th>\n",
       "      <td>386</td>\n",
       "      <td>Lata</td>\n",
       "      <td>PT</td>\n",
       "      <td>73.99</td>\n",
       "      <td>clear sky</td>\n",
       "      <td>40.16</td>\n",
       "      <td>-8.33</td>\n",
       "      <td>Casa Maquia</td>\n",
       "    </tr>\n",
       "  </tbody>\n",
       "</table>\n",
       "</div>"
      ],
      "text/plain": [
       "   Unnamed: 0                      City Country  Max Temp Current Description  \\\n",
       "0         305                   Vierzon      FR     82.40           clear sky   \n",
       "1         245  Saint-Orens-De-Gameville      FR     86.00    scattered clouds   \n",
       "2         519                      Vila      PT     75.99           clear sky   \n",
       "3         386                      Lata      PT     73.99           clear sky   \n",
       "\n",
       "     Lat   Lng                                         Hotel Name  \n",
       "0  47.21  2.06                                Arche Hôtel Vierzon  \n",
       "1  43.55  1.53  Appart'City Confort Toulouse Diagora Labège - ...  \n",
       "2  42.03 -8.16                               Hotel Castrum Villae  \n",
       "3  40.16 -8.33                                        Casa Maquia  "
      ]
     },
     "execution_count": 58,
     "metadata": {},
     "output_type": "execute_result"
    }
   ],
   "source": [
    "travel_df = pd.read_csv(\"analysis/Four_cities.csv\")\n",
    "travel_df"
   ]
  },
  {
   "cell_type": "code",
   "execution_count": 59,
   "metadata": {},
   "outputs": [],
   "source": [
    "info_box_template = \"\"\"\n",
    "<dl>\n",
    "<dt>Hotel Name</dt><dd>{Hotel Name}</dd>\n",
    "<dt>City</dt><dd>{City}</dd>\n",
    "<dt>Country</dt><dd>{Country}</dd>\n",
    "<dt>Current Weather</dt><dd>{Current Description} and {Max Temp} °F</dd>\n",
    "</dl>\n",
    "\"\"\"\n",
    "# Store the DataFrame Row.\n",
    "hotel_info = [info_box_template.format(**row) for index, row in travel_df.iterrows()]"
   ]
  },
  {
   "cell_type": "code",
   "execution_count": 60,
   "metadata": {},
   "outputs": [
    {
     "data": {
      "application/vnd.jupyter.widget-view+json": {
       "model_id": "97468b90e3f6443b8315388260613d77",
       "version_major": 2,
       "version_minor": 0
      },
      "text/plain": [
       "Figure(layout=FigureLayout(height='420px'))"
      ]
     },
     "metadata": {},
     "output_type": "display_data"
    }
   ],
   "source": [
    "# Add a pop-up marker for each city.\n",
    "locations = travel_df[[\"Lat\", \"Lng\"]]\n",
    "fig = gmaps.figure(center=(30.0, 31.0), zoom_level=1.5)\n",
    "marker_layer = gmaps.marker_layer(locations, info_box_content=hotel_info)\n",
    "fig.add_layer(marker_layer)\n",
    "\n",
    "# Call the figure to plot the data.\n",
    "fig"
   ]
  },
  {
   "cell_type": "code",
   "execution_count": null,
   "metadata": {},
   "outputs": [],
   "source": []
  }
 ],
 "metadata": {
  "kernelspec": {
   "display_name": "PythonData",
   "language": "python",
   "name": "pythondata"
  },
  "language_info": {
   "codemirror_mode": {
    "name": "ipython",
    "version": 3
   },
   "file_extension": ".py",
   "mimetype": "text/x-python",
   "name": "python",
   "nbconvert_exporter": "python",
   "pygments_lexer": "ipython3",
   "version": "3.7.6"
  }
 },
 "nbformat": 4,
 "nbformat_minor": 4
}
