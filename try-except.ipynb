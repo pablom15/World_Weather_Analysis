{
 "cells": [
  {
   "cell_type": "code",
   "execution_count": 13,
   "metadata": {},
   "outputs": [],
   "source": [
    "import requests as req\n",
    "from config import weather_api_key"
   ]
  },
  {
   "cell_type": "code",
   "execution_count": 14,
   "metadata": {},
   "outputs": [],
   "source": [
    "url = \"http://api.openweathermap.org/data/2.5/weather?units=Imperial&APPID=\" + weather_api_key"
   ]
  },
  {
   "cell_type": "code",
   "execution_count": 15,
   "metadata": {},
   "outputs": [],
   "source": [
    "cities = ['Pittsburgh', 'Austin', 'New  York', 'Los Angeles', 'Seattle']"
   ]
  },
  {
   "cell_type": "code",
   "execution_count": 18,
   "metadata": {},
   "outputs": [
    {
     "name": "stdout",
     "output_type": "stream",
     "text": [
      "It is currently 76.51 degrees in Pittsburgh\n",
      "It is currently 81.36 degrees in Austin\n",
      "KeyError recieved for New  York\n",
      "It is currently 64.83 degrees in Los Angeles\n",
      "It is currently 56.64 degrees in Seattle\n"
     ]
    }
   ],
   "source": [
    "for city in cities:\n",
    "    try:\n",
    "        city_url = url + '&q=' + city\n",
    "        weather = req.get(city_url).json()\n",
    "        temp = weather['main']['temp']\n",
    "    except KeyError:\n",
    "        print('KeyError recieved for ' + city)\n",
    "        continue\n",
    "    print('It is currently ' + str(temp) + ' degrees in '+ city)"
   ]
  },
  {
   "cell_type": "code",
   "execution_count": null,
   "metadata": {},
   "outputs": [],
   "source": []
  }
 ],
 "metadata": {
  "kernelspec": {
   "display_name": "PythonData",
   "language": "python",
   "name": "pythondata"
  },
  "language_info": {
   "codemirror_mode": {
    "name": "ipython",
    "version": 3
   },
   "file_extension": ".py",
   "mimetype": "text/x-python",
   "name": "python",
   "nbconvert_exporter": "python",
   "pygments_lexer": "ipython3",
   "version": "3.7.6"
  }
 },
 "nbformat": 4,
 "nbformat_minor": 4
}
